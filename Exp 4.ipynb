{
 "cells": [
  {
   "cell_type": "code",
   "execution_count": 26,
   "id": "749eec62",
   "metadata": {
    "scrolled": true
   },
   "outputs": [],
   "source": [
    "import numpy as np\n",
    "from sklearn.datasets import load_iris\n",
    "from sklearn.model_selection import train_test_split\n",
    "from sklearn.neighbors import KNeighborsClassifier\n",
    "from sklearn.metrics import accuracy_score "
   ]
  },
  {
   "cell_type": "code",
   "execution_count": 27,
   "id": "d78d672c",
   "metadata": {},
   "outputs": [],
   "source": [
    "data = load_iris()\n",
    "x = data.data\n",
    "y = data.target"
   ]
  },
  {
   "cell_type": "code",
   "execution_count": 41,
   "id": "bb8b19f2",
   "metadata": {},
   "outputs": [],
   "source": [
    "x_train,x_test,y_train,y_test = train_test_split(x,y,test_size=0.2,random_state=10)"
   ]
  },
  {
   "cell_type": "code",
   "execution_count": 42,
   "id": "1104e462",
   "metadata": {},
   "outputs": [
    {
     "data": {
      "text/plain": [
       "KNeighborsClassifier(n_neighbors=3)"
      ]
     },
     "execution_count": 42,
     "metadata": {},
     "output_type": "execute_result"
    }
   ],
   "source": [
    "knn=KNeighborsClassifier(n_neighbors=3)\n",
    "knn.fit(x_train,y_train)"
   ]
  },
  {
   "cell_type": "code",
   "execution_count": 43,
   "id": "d1d5b59f",
   "metadata": {},
   "outputs": [],
   "source": [
    "y_pred = knn.predict(x_test)"
   ]
  },
  {
   "cell_type": "code",
   "execution_count": 44,
   "id": "92ea3ec7",
   "metadata": {},
   "outputs": [
    {
     "name": "stdout",
     "output_type": "stream",
     "text": [
      "Accuracy: 96.66666666666667 %\n"
     ]
    }
   ],
   "source": [
    "accuracy = accuracy_score(y_test,y_pred)\n",
    "print(\"Accuracy:\", accuracy * 100, \"%\")"
   ]
  },
  {
   "cell_type": "code",
   "execution_count": 45,
   "id": "ce64d3cf",
   "metadata": {},
   "outputs": [
    {
     "name": "stdout",
     "output_type": "stream",
     "text": [
      "Sample  │ Actual \t│ Predicted \t \t│ Prediction \n",
      "──────────────────────────────────────────────────────────────\n",
      "1 \t│ versicolor \t│  versicolor  \t\t│  Correct\n",
      "2 \t│ virginica \t│  virginica  \t\t│  Correct\n",
      "3 \t│ setosa \t│  setosa  \t\t│  Correct\n",
      "4 \t│ versicolor \t│  versicolor  \t\t│  Correct\n",
      "5 \t│ setosa \t│  setosa  \t\t│  Correct\n",
      "6 \t│ versicolor \t│  versicolor  \t\t│  Correct\n",
      "7 \t│ versicolor \t│  virginica  \t\t│  Incorrect\n",
      "8 \t│ versicolor \t│  versicolor  \t\t│  Correct\n",
      "9 \t│ setosa \t│  setosa  \t\t│  Correct\n",
      "10 \t│ versicolor \t│  versicolor  \t\t│  Correct\n",
      "11 \t│ versicolor \t│  versicolor  \t\t│  Correct\n",
      "12 \t│ virginica \t│  virginica  \t\t│  Correct\n",
      "13 \t│ versicolor \t│  versicolor  \t\t│  Correct\n",
      "14 \t│ setosa \t│  setosa  \t\t│  Correct\n",
      "15 \t│ setosa \t│  setosa  \t\t│  Correct\n",
      "16 \t│ virginica \t│  virginica  \t\t│  Correct\n",
      "17 \t│ versicolor \t│  versicolor  \t\t│  Correct\n",
      "18 \t│ setosa \t│  setosa  \t\t│  Correct\n",
      "19 \t│ setosa \t│  setosa  \t\t│  Correct\n",
      "20 \t│ setosa \t│  setosa  \t\t│  Correct\n",
      "21 \t│ virginica \t│  virginica  \t\t│  Correct\n",
      "22 \t│ virginica \t│  virginica  \t\t│  Correct\n",
      "23 \t│ virginica \t│  virginica  \t\t│  Correct\n",
      "24 \t│ setosa \t│  setosa  \t\t│  Correct\n",
      "25 \t│ versicolor \t│  versicolor  \t\t│  Correct\n",
      "26 \t│ setosa \t│  setosa  \t\t│  Correct\n",
      "27 \t│ versicolor \t│  versicolor  \t\t│  Correct\n",
      "28 \t│ versicolor \t│  versicolor  \t\t│  Correct\n",
      "29 \t│ versicolor \t│  versicolor  \t\t│  Correct\n",
      "30 \t│ virginica \t│  virginica  \t\t│  Correct\n"
     ]
    }
   ],
   "source": [
    "print(\"Sample\", \" │ Actual \\t│\", \"Predicted \\t\", \"\\t│ Prediction \")\n",
    "print(\"──────────────────────────────────────────────────────────────\")\n",
    "for sample in range(len(y_test)):\n",
    "    \n",
    "    predict = y_pred[sample]\n",
    "    test = y_test[sample]\n",
    "    \n",
    "    result = \" Correct\" if (predict == test) else \" Incorrect\"\n",
    "    \n",
    "    print(sample+1, \"\\t│\", data.target_names[test], \"\\t│ \", data.target_names[predict],\" \\t\\t│\", result)"
   ]
  },
  {
   "cell_type": "code",
   "execution_count": null,
   "id": "25927853",
   "metadata": {},
   "outputs": [],
   "source": []
  },
  {
   "cell_type": "code",
   "execution_count": null,
   "id": "e0240476",
   "metadata": {},
   "outputs": [],
   "source": []
  }
 ],
 "metadata": {
  "kernelspec": {
   "display_name": "Python 3 (ipykernel)",
   "language": "python",
   "name": "python3"
  },
  "language_info": {
   "codemirror_mode": {
    "name": "ipython",
    "version": 3
   },
   "file_extension": ".py",
   "mimetype": "text/x-python",
   "name": "python",
   "nbconvert_exporter": "python",
   "pygments_lexer": "ipython3",
   "version": "3.9.12"
  }
 },
 "nbformat": 4,
 "nbformat_minor": 5
}
