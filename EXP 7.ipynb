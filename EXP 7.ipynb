{
 "cells": [
  {
   "cell_type": "code",
   "execution_count": 2,
   "id": "359e1c07",
   "metadata": {},
   "outputs": [
    {
     "name": "stdout",
     "output_type": "stream",
     "text": [
      "Enter the radius of the tumor: 4\n",
      "It is benign tumor\n"
     ]
    }
   ],
   "source": [
    "import numpy as np\n",
    "import pandas as pd\n",
    "from sklearn import linear_model as lm\n",
    "data = pd.read_csv('cancer.csv')\n",
    "x = np.array(data['radius_mean']).reshape(-1,1)\n",
    "y = data['diagnosis']\n",
    "model = lm.LogisticRegression()\n",
    "model.fit(x,y)\n",
    "radius = float(input(\"Enter the radius of the tumor: \"))\n",
    "prediction = model.predict(np.array(radius).reshape(-1,1))\n",
    "if prediction == 'B':\n",
    "    print(\"It is benign tumor\")\n",
    "else:\n",
    "    print(\"It is Malignant tumor\")"
   ]
  },
  {
   "cell_type": "code",
   "execution_count": null,
   "id": "ba441277",
   "metadata": {},
   "outputs": [],
   "source": []
  }
 ],
 "metadata": {
  "kernelspec": {
   "display_name": "Python 3 (ipykernel)",
   "language": "python",
   "name": "python3"
  },
  "language_info": {
   "codemirror_mode": {
    "name": "ipython",
    "version": 3
   },
   "file_extension": ".py",
   "mimetype": "text/x-python",
   "name": "python",
   "nbconvert_exporter": "python",
   "pygments_lexer": "ipython3",
   "version": "3.9.12"
  }
 },
 "nbformat": 4,
 "nbformat_minor": 5
}
