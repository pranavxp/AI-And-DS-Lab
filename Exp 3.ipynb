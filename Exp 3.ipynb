{
 "cells": [
  {
   "cell_type": "code",
   "execution_count": 1,
   "id": "e4590a13",
   "metadata": {},
   "outputs": [],
   "source": [
    "import csv\n",
    "\n",
    "fields = ['Roll No', 'Name', 'Marks']\n",
    "\n",
    "rows = [ ['49', 'Pranav P', '93'],\n",
    "        ['50', 'Prithviraj R', '84'],\n",
    "        ['51', 'Rajat', '89'],\n",
    "        ['52', 'Rohan', '81'],\n",
    "        ['46', 'Noble', '65'],\n",
    "        ['29', 'Jacob', '52']]\n",
    "\n",
    "filename = \"student.csv\"\n",
    "\n",
    "with open(filename, 'w') as csvfile:\n",
    "    csvwriter = csv.writer(csvfile)\n",
    "    csvwriter.writerow(fields)\n",
    "    csvwriter.writerows(rows)\n"
   ]
  },
  {
   "cell_type": "code",
   "execution_count": 7,
   "id": "bce9852e",
   "metadata": {},
   "outputs": [
    {
     "name": "stdout",
     "output_type": "stream",
     "text": [
      "   Roll No          Name  Marks\n",
      "0       49      Pranav P     93\n",
      "1       50  Prithviraj R     84\n",
      "2       51         Rajat     89\n",
      "3       52         Rohan     81\n",
      "4       46         Noble     65\n",
      "5       29         Jacob     52\n",
      "\n",
      "\n",
      "Descending\n",
      "\n",
      "   Roll No          Name  Marks\n",
      "0       49      Pranav P     93\n",
      "2       51         Rajat     89\n",
      "1       50  Prithviraj R     84\n",
      "3       52         Rohan     81\n",
      "4       46         Noble     65\n",
      "5       29         Jacob     52\n",
      "Ascending\n",
      "\n",
      "   Roll No          Name  Marks\n",
      "5       29         Jacob     52\n",
      "4       46         Noble     65\n",
      "3       52         Rohan     81\n",
      "1       50  Prithviraj R     84\n",
      "2       51         Rajat     89\n",
      "0       49      Pranav P     93\n"
     ]
    }
   ],
   "source": [
    "import pandas as pd\n",
    "df = pd.read_csv('student.csv')\n",
    "print(df)\n",
    "print('\\n')\n",
    "sort = df.sort_values('Marks')\n",
    "print('Descending\\n')\n",
    "sort = df.sort_values('Marks',ascending = False)\n",
    "print(sort)\n",
    "print('Ascending\\n')\n",
    "sort = df.sort_values('Marks')\n",
    "print(sort)"
   ]
  },
  {
   "cell_type": "code",
   "execution_count": null,
   "id": "06066f27",
   "metadata": {},
   "outputs": [],
   "source": []
  }
 ],
 "metadata": {
  "kernelspec": {
   "display_name": "Python 3 (ipykernel)",
   "language": "python",
   "name": "python3"
  },
  "language_info": {
   "codemirror_mode": {
    "name": "ipython",
    "version": 3
   },
   "file_extension": ".py",
   "mimetype": "text/x-python",
   "name": "python",
   "nbconvert_exporter": "python",
   "pygments_lexer": "ipython3",
   "version": "3.9.12"
  }
 },
 "nbformat": 4,
 "nbformat_minor": 5
}
